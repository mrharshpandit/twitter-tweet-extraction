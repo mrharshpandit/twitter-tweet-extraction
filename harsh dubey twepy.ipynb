{
 "cells": [
  {
   "cell_type": "code",
   "execution_count": 1,
   "id": "71a43503",
   "metadata": {},
   "outputs": [
    {
     "name": "stdout",
     "output_type": "stream",
     "text": [
      "Requirement already satisfied: tweepy in c:\\users\\asus\\anaconda3\\lib\\site-packages (4.8.0)\n",
      "Requirement already satisfied: requests-oauthlib<2,>=1.2.0 in c:\\users\\asus\\anaconda3\\lib\\site-packages (from tweepy) (1.3.1)\n",
      "Requirement already satisfied: oauthlib<4,>=3.2.0 in c:\\users\\asus\\anaconda3\\lib\\site-packages (from tweepy) (3.2.0)\n",
      "Requirement already satisfied: requests<3,>=2.27.0 in c:\\users\\asus\\anaconda3\\lib\\site-packages (from tweepy) (2.27.1)\n",
      "Requirement already satisfied: urllib3<1.27,>=1.21.1 in c:\\users\\asus\\anaconda3\\lib\\site-packages (from requests<3,>=2.27.0->tweepy) (1.26.7)\n",
      "Requirement already satisfied: charset-normalizer~=2.0.0 in c:\\users\\asus\\anaconda3\\lib\\site-packages (from requests<3,>=2.27.0->tweepy) (2.0.4)\n",
      "Requirement already satisfied: idna<4,>=2.5 in c:\\users\\asus\\anaconda3\\lib\\site-packages (from requests<3,>=2.27.0->tweepy) (3.2)\n",
      "Requirement already satisfied: certifi>=2017.4.17 in c:\\users\\asus\\anaconda3\\lib\\site-packages (from requests<3,>=2.27.0->tweepy) (2021.10.8)\n",
      "Note: you may need to restart the kernel to use updated packages.\n"
     ]
    }
   ],
   "source": [
    "pip install tweepy\n"
   ]
  },
  {
   "cell_type": "code",
   "execution_count": 2,
   "id": "297119bd",
   "metadata": {},
   "outputs": [
    {
     "name": "stdout",
     "output_type": "stream",
     "text": [
      "Requirement already satisfied: configparser in c:\\users\\asus\\anaconda3\\lib\\site-packages (5.2.0)\n",
      "Note: you may need to restart the kernel to use updated packages.\n"
     ]
    }
   ],
   "source": [
    "pip install configparser\n"
   ]
  },
  {
   "cell_type": "code",
   "execution_count": 3,
   "id": "cf318ad3",
   "metadata": {},
   "outputs": [
    {
     "name": "stdout",
     "output_type": "stream",
     "text": [
      "Requirement already satisfied: pandas in c:\\users\\asus\\anaconda3\\lib\\site-packages (1.3.4)\n",
      "Requirement already satisfied: numpy>=1.17.3 in c:\\users\\asus\\anaconda3\\lib\\site-packages (from pandas) (1.20.3)\n",
      "Requirement already satisfied: python-dateutil>=2.7.3 in c:\\users\\asus\\anaconda3\\lib\\site-packages (from pandas) (2.8.2)\n",
      "Requirement already satisfied: pytz>=2017.3 in c:\\users\\asus\\anaconda3\\lib\\site-packages (from pandas) (2021.3)\n",
      "Requirement already satisfied: six>=1.5 in c:\\users\\asus\\anaconda3\\lib\\site-packages (from python-dateutil>=2.7.3->pandas) (1.16.0)\n",
      "Note: you may need to restart the kernel to use updated packages.\n"
     ]
    }
   ],
   "source": [
    "pip install pandas\n"
   ]
  },
  {
   "cell_type": "code",
   "execution_count": 9,
   "id": "69637d2d",
   "metadata": {},
   "outputs": [],
   "source": [
    "import tweepy\n",
    "import configparser\n",
    "\n",
    "config = configparser.ConfigParser()\n",
    "config.read('config.ini')\n",
    "\n",
    "api_key = config['twitter']['api_key']\n",
    "api_key_secret = config['twitter']['api_key_secret']\n",
    "\n",
    "access_token = config['twitter']['access_token']\n",
    "access_token_secret = config['twitter']['access_token_secret']\n",
    "\n"
   ]
  },
  {
   "cell_type": "code",
   "execution_count": 13,
   "id": "d6c74362",
   "metadata": {},
   "outputs": [
    {
     "name": "stdout",
     "output_type": "stream",
     "text": [
      "Explore a scent for every style.\n",
      "Get the best of #one8 from here- https://t.co/XP5iVjZOak\n",
      "@ScentialsWorld… https://t.co/2CY4WKRAnk\n",
      "सरकार वोकल फॉर लोकल अभियान, ‘One district, one product’ योजना के जरिए जो स्थानीय उत्पादों पर बल दे रही है, उसने भी… https://t.co/i7ydXg8lP1\n",
      "आज सरकार का हर मंत्रालय, हर विभाग, ‘whole of government’ अप्रोच के साथ एक्सपोर्ट बढ़ाने को प्राथमिकता दे रहा है।\n",
      "\n",
      "M… https://t.co/OOHY29mdlH\n",
      "पिछले आठ वर्षों में भारत भी अपना एक्सपोर्ट लगातार बढ़ा रहा है, एक्सपोर्ट से जुड़े लक्ष्यों को प्राप्त कर रहा है।\n",
      "\n",
      "ए… https://t.co/rBHEL2pfQe\n",
      "पिछले साल देश ने तय किया था कि हर चुनौती के बावजूद 400 बिलियन डॉलर यानि 30 लाख करोड़ रुपए के merchandize export का… https://t.co/CIxg0CVGUP\n",
      "पिछले साल  ऐतिहासिक global disruptions के बावजूद भारत ने 670 बिलियन डॉलर यानि 50 लाख करोड़ रुपए का टोटल एक्सपोर्ट किया: PM @narendramodi\n",
      "वाणिज्य भवन इस कालखंड में कॉमर्स के क्षेत्र में हमारी उपलब्धियों का भी symbol हैं।\n",
      "\n",
      "मुझे याद है, शिलान्यास के समय… https://t.co/jfdFFC221Y\n",
      "सरकार के प्रोजेक्ट्स बरसों तक लटके नहीं, समय पर पूरे हों, सरकार की योजनाएं अपने लक्ष्यों तक पहुंचे, तभी देश के टै… https://t.co/K7k1OjoZ8T\n",
      "आज देश के पहले उद्योग मंत्री डॉक्टर श्यामा प्रसाद मुखर्जी की पुण्य तिथि भी है।\n",
      "\n",
      "उनकी नीतियां, उनके निर्णय, उनके संक… https://t.co/eyMWjKMFh4\n",
      "नए भारत में Citizen Centric Governance के जिस सफर पर देश बीते 8 वर्षों से चल रहा है, आज उस दिशा में एक और महत्वपू… https://t.co/dRHEUHCjFb\n",
      "The new Vanijya Bhawan will significantly benefit those associated with trade, commerce and MSME sector. https://t.co/aCUnDht6mB\n",
      "डॉ. श्यामा प्रसाद मुखर्जी जी ने कांग्रेस की तुष्टीकरण नीति और देश की एकता-अखंडता व सुरक्षा के साथ उनकी खिलवाड़ करने… https://t.co/7ShoyJUTQi\n",
      "माँ भारती के अमर सपूत, डॉ. श्यामा प्रसाद मुखर्जी जी के बलिदान दिवस के अवसर पर आज लखनऊ में उनकी प्रतिमा पर पुष्पांज… https://t.co/X2j0OnLtfW\n",
      "Remembering Dr. Syama Prasad Mookerjee on his Punya Tithi. Every Indian is indebted to him for his unparalleled eff… https://t.co/dee3WEz28x\n",
      "जनपद पीलीभीत में सड़क दुर्घटना में हुई लोगों की मृत्यु अत्यंत दुःखद है।\n",
      "\n",
      "अधिकारियों को राहत व बचाव कार्य तेजी से सं… https://t.co/eR3N53e0cn\n",
      "माँ भारती के अमर सपूत, जनसंघ के संस्थापक अध्यक्ष, भारतीय राजनीति को उत्कृष्ट लोकतांत्रिक मूल्यों से सुवासित करने वा… https://t.co/pN37fklM3z\n",
      "hi there\n",
      "👋 🐦\n",
      "हरियाणा के स्थानीय निकाय चुनावों में भाजपा-जजपा गठबंधन की विराट विजय की सभी कार्यकर्ताओं को हार्दिक बधाई।\n",
      "\n",
      "यह शानदा… https://t.co/oWer86KtSy\n",
      ". #SocialMediaApp #Explurger #SonuSood #MadeInIndia #SonuSoodExplurger\n"
     ]
    }
   ],
   "source": [
    "#authantication\n",
    "auth = tweepy.OAuthHandler(api_key,api_key_secret)\n",
    "auth.set_access_token(access_token,access_token_secret)\n",
    "api= tweepy.API(auth)\n",
    "\n",
    "public_tweets = api.home_timeline()\n",
    "\n",
    "for tweet in public_tweets:\n",
    "    print(tweet.text)\n",
    "#print(public_tweets[0].text)"
   ]
  },
  {
   "cell_type": "code",
   "execution_count": null,
   "id": "a69a5e71",
   "metadata": {},
   "outputs": [],
   "source": [
    " "
   ]
  }
 ],
 "metadata": {
  "kernelspec": {
   "display_name": "Python 3 (ipykernel)",
   "language": "python",
   "name": "python3"
  },
  "language_info": {
   "codemirror_mode": {
    "name": "ipython",
    "version": 3
   },
   "file_extension": ".py",
   "mimetype": "text/x-python",
   "name": "python",
   "nbconvert_exporter": "python",
   "pygments_lexer": "ipython3",
   "version": "3.9.7"
  }
 },
 "nbformat": 4,
 "nbformat_minor": 5
}
